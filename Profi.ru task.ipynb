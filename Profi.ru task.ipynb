{
 "cells": [
  {
   "cell_type": "markdown",
   "metadata": {},
   "source": [
    "## Profi.ru тестовое задание"
   ]
  },
  {
   "cell_type": "markdown",
   "metadata": {},
   "source": [
    "### Задание 1"
   ]
  },
  {
   "cell_type": "markdown",
   "metadata": {},
   "source": [
    "Написать функцию на Python\n",
    "\n",
    "Напиши функцию, которая удалит дубликаты в списке. Список не отсортирован. Необходимо сохранить порядок сортировки оригинального списка."
   ]
  },
  {
   "cell_type": "code",
   "execution_count": 1,
   "metadata": {},
   "outputs": [],
   "source": [
    "def drop_duplicates (list):\n",
    "    unique = []\n",
    "    for i in list:\n",
    "        if i not in unique:\n",
    "            unique.append (i)\n",
    "    return (unique)"
   ]
  },
  {
   "cell_type": "markdown",
   "metadata": {},
   "source": [
    "Асимптотическая сложность функции: O(n)."
   ]
  },
  {
   "cell_type": "markdown",
   "metadata": {},
   "source": [
    "### Задание 2"
   ]
  },
  {
   "cell_type": "markdown",
   "metadata": {},
   "source": [
    "Дана таблица employees всех сотрудников компании. Поля:\n",
    "* full_name TEXT (PK),\n",
    "* position TEXT,\n",
    "* department TEXT.\n",
    "\n",
    "Напиши запрос, выводящий все отделы, в которых меньше 5 разработчиков (position = 'Software Developer')."
   ]
  },
  {
   "cell_type": "markdown",
   "metadata": {},
   "source": [
    "__Решение__:"
   ]
  },
  {
   "cell_type": "markdown",
   "metadata": {},
   "source": [
    "SELECT department, COUNT (position) \n",
    "\n",
    "FROM employees\n",
    "\n",
    "WHERE position = 'Software Developer'\n",
    "\n",
    "GROUP BY department \n",
    "\n",
    "HAVING COUNT (position) < 5"
   ]
  },
  {
   "cell_type": "markdown",
   "metadata": {},
   "source": [
    "### Задание 3"
   ]
  },
  {
   "cell_type": "markdown",
   "metadata": {},
   "source": [
    "Подкинули монету N раз. Кол-во случаев, когда выпал орёл, на 10% больше, чем кол-во случаев, когда выпала решка. При каком N мы можем сказать, что монета «нечестная» (орёл и решка выпадают с разной вероятностью)?"
   ]
  },
  {
   "cell_type": "markdown",
   "metadata": {},
   "source": [
    "__Решение__:"
   ]
  },
  {
   "cell_type": "markdown",
   "metadata": {},
   "source": [
    "Для того чтобы ответить на этот вопрос, нам нужно проверить статистическую гипотезу о равенстве вероятности выпадения орла 0,5, то есть о том, что это правильная монета.\n",
    "\n",
    "$H_0: p (орел) = 0,5$\n",
    "\n",
    "$H_1: p (орел) ≠ 0,5$"
   ]
  },
  {
   "cell_type": "markdown",
   "metadata": {},
   "source": [
    "Статистика критерия для проверки данной гипотезы выглядит следующим образом:\n",
    "\n",
    "$U_{(набл.)} = \\frac {(p_{набл.} - p_0) \\times \\sqrt {N}}{\\sqrt{p_0 \\times q_0}}$"
   ]
  },
  {
   "cell_type": "markdown",
   "metadata": {},
   "source": [
    "Возьмем уровень значимости 5%. Тогда критическая область будет следующей. Чтобы отвергнуть нулевую гипотезу, $U_{набл.}$ должно находиться в области:\n",
    "\n",
    "$(-\\infty ; 0,025) \\cup (0,975: +\\infty)$"
   ]
  },
  {
   "cell_type": "markdown",
   "metadata": {},
   "source": [
    "Теперь найдем N, при которых может быть отвергнута нулевая гипотеза. По уловию количество случаев выпадения орла на 10% больше.\n",
    "\n",
    "Пусть количество выпадений решки равно x, тогда количество выпадений орла равно 1,1x. \n",
    "Следовательно, 2,1x = N.\n",
    "\n",
    "$x = \\frac {N}{2,1}$ - количество выпадений решки.\n",
    "\n",
    "$x = \\frac {1,1N}{2,1}$ - количество выпадений орла.\n",
    "\n",
    "$p_{набл.} = \\frac {1,1N}{2,1} / N = \\frac {1,1}{2,1} = 0,52$"
   ]
  },
  {
   "cell_type": "markdown",
   "metadata": {},
   "source": [
    "$\\frac {0,02 \\times \\sqrt {N}}{0,4996} < 0,025$\n",
    "\n",
    "$\\frac {0,02 \\times \\sqrt {N}}{0,4996} > 0,975$"
   ]
  },
  {
   "cell_type": "markdown",
   "metadata": {},
   "source": [
    "Решая неравенства, получаем:\n",
    "\n",
    "$N < 0,39$\n",
    "\n",
    "$N > 593,19$"
   ]
  },
  {
   "cell_type": "markdown",
   "metadata": {},
   "source": [
    "Подкидываний меньше 1 быть не может, поэтому забываем о первом неравенстве. Подкидывания могут быть только целым числом. Следовательно, чтобы отвергнуть гипотезу о том, что монета правильная при таком выпадении орлов и решек, нужно сделать 594 или больше подкидываний.\n",
    "\n",
    "__Ответ__: $N \\in [594: +\\infty)$"
   ]
  }
 ],
 "metadata": {
  "kernelspec": {
   "display_name": "Python 3",
   "language": "python",
   "name": "python3"
  },
  "language_info": {
   "codemirror_mode": {
    "name": "ipython",
    "version": 3
   },
   "file_extension": ".py",
   "mimetype": "text/x-python",
   "name": "python",
   "nbconvert_exporter": "python",
   "pygments_lexer": "ipython3",
   "version": "3.7.4"
  }
 },
 "nbformat": 4,
 "nbformat_minor": 2
}
